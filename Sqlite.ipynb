{
 "cells": [
  {
   "cell_type": "markdown",
   "id": "a151b874",
   "metadata": {},
   "source": [
    "### Running Sqlite queries inside Jupyter notebooks"
   ]
  },
  {
   "cell_type": "markdown",
   "id": "70535152",
   "metadata": {},
   "source": [
    "We need two packages, `sqlite3` to connect to the database, and `pandas` for the nice dataframes"
   ]
  },
  {
   "cell_type": "code",
   "execution_count": 1,
   "id": "8a0c3519",
   "metadata": {},
   "outputs": [],
   "source": [
    "import sqlite3\n",
    "import pandas as pd"
   ]
  },
  {
   "cell_type": "markdown",
   "id": "40194bc8",
   "metadata": {},
   "source": [
    "We connect to the SQLite file that has our data."
   ]
  },
  {
   "cell_type": "markdown",
   "id": "515ba7ba",
   "metadata": {},
   "source": [
    "The sample file for the *Teach Yourself SQL in 10 Minutes* book is located on the author's website (https://forta.com/books/0135182794/).\n",
    "Scroll down to the information about Appendix A, then click to download the SQLite files.\n",
    "When you unzip the download, you will have a database file called \"TYSQL.sqlite\""
   ]
  },
  {
   "cell_type": "markdown",
   "id": "b07f7299",
   "metadata": {},
   "source": [
    "I have placed the SQLite database file in the same folder as this Jupyter notebook, so I don't need to specify a folder path to find the database."
   ]
  },
  {
   "cell_type": "code",
   "execution_count": 2,
   "id": "6ad1c8f2",
   "metadata": {},
   "outputs": [],
   "source": [
    "con = sqlite3.connect(\"TYSQL.sqlite\")"
   ]
  },
  {
   "cell_type": "markdown",
   "id": "eb557b47",
   "metadata": {},
   "source": [
    "We can use the `read_sql_query()` function to run a query and place the results into a Pandas dataframe."
   ]
  },
  {
   "cell_type": "code",
   "execution_count": 3,
   "id": "fd86b7ee",
   "metadata": {},
   "outputs": [],
   "source": [
    "df = pd.read_sql_query(\"SELECT * from Customers;\", con)"
   ]
  },
  {
   "cell_type": "markdown",
   "id": "a265bddf",
   "metadata": {},
   "source": [
    "Jupyter does nice HTML formatting of dataframes (but it limits the number of rows and columns it will display)."
   ]
  },
  {
   "cell_type": "code",
   "execution_count": 4,
   "id": "9cc5be1f",
   "metadata": {},
   "outputs": [
    {
     "data": {
      "text/html": [
       "<div>\n",
       "<style scoped>\n",
       "    .dataframe tbody tr th:only-of-type {\n",
       "        vertical-align: middle;\n",
       "    }\n",
       "\n",
       "    .dataframe tbody tr th {\n",
       "        vertical-align: top;\n",
       "    }\n",
       "\n",
       "    .dataframe thead th {\n",
       "        text-align: right;\n",
       "    }\n",
       "</style>\n",
       "<table border=\"1\" class=\"dataframe\">\n",
       "  <thead>\n",
       "    <tr style=\"text-align: right;\">\n",
       "      <th></th>\n",
       "      <th>cust_id</th>\n",
       "      <th>cust_name</th>\n",
       "      <th>cust_address</th>\n",
       "      <th>cust_city</th>\n",
       "      <th>cust_state</th>\n",
       "      <th>cust_zip</th>\n",
       "      <th>cust_country</th>\n",
       "      <th>cust_contact</th>\n",
       "      <th>cust_email</th>\n",
       "    </tr>\n",
       "  </thead>\n",
       "  <tbody>\n",
       "    <tr>\n",
       "      <th>0</th>\n",
       "      <td>1000000001</td>\n",
       "      <td>Village Toys</td>\n",
       "      <td>200 Maple Lane</td>\n",
       "      <td>Detroit</td>\n",
       "      <td>MI</td>\n",
       "      <td>44444</td>\n",
       "      <td>USA</td>\n",
       "      <td>John Smith</td>\n",
       "      <td>sales@villagetoys.com</td>\n",
       "    </tr>\n",
       "    <tr>\n",
       "      <th>1</th>\n",
       "      <td>1000000002</td>\n",
       "      <td>Kids Place</td>\n",
       "      <td>333 South Lake Drive</td>\n",
       "      <td>Columbus</td>\n",
       "      <td>OH</td>\n",
       "      <td>43333</td>\n",
       "      <td>USA</td>\n",
       "      <td>Michelle Green</td>\n",
       "      <td>None</td>\n",
       "    </tr>\n",
       "    <tr>\n",
       "      <th>2</th>\n",
       "      <td>1000000003</td>\n",
       "      <td>Fun4All</td>\n",
       "      <td>1 Sunny Place</td>\n",
       "      <td>Muncie</td>\n",
       "      <td>IN</td>\n",
       "      <td>42222</td>\n",
       "      <td>USA</td>\n",
       "      <td>Jim Jones</td>\n",
       "      <td>jjones@fun4all.com</td>\n",
       "    </tr>\n",
       "    <tr>\n",
       "      <th>3</th>\n",
       "      <td>1000000004</td>\n",
       "      <td>Fun4All</td>\n",
       "      <td>829 Riverside Drive</td>\n",
       "      <td>Phoenix</td>\n",
       "      <td>AZ</td>\n",
       "      <td>88888</td>\n",
       "      <td>USA</td>\n",
       "      <td>Denise L. Stephens</td>\n",
       "      <td>dstephens@fun4all.com</td>\n",
       "    </tr>\n",
       "    <tr>\n",
       "      <th>4</th>\n",
       "      <td>1000000005</td>\n",
       "      <td>The Toy Store</td>\n",
       "      <td>4545 53rd Street</td>\n",
       "      <td>Chicago</td>\n",
       "      <td>IL</td>\n",
       "      <td>54545</td>\n",
       "      <td>USA</td>\n",
       "      <td>Kim Howard</td>\n",
       "      <td>kim@thetoystore.com</td>\n",
       "    </tr>\n",
       "    <tr>\n",
       "      <th>5</th>\n",
       "      <td>1000000006</td>\n",
       "      <td>Toy Land</td>\n",
       "      <td>123 Any Street</td>\n",
       "      <td>New York</td>\n",
       "      <td>NY</td>\n",
       "      <td>11111</td>\n",
       "      <td>USA</td>\n",
       "      <td>None</td>\n",
       "      <td>None</td>\n",
       "    </tr>\n",
       "  </tbody>\n",
       "</table>\n",
       "</div>"
      ],
      "text/plain": [
       "      cust_id      cust_name          cust_address cust_city cust_state  \\\n",
       "0  1000000001   Village Toys        200 Maple Lane   Detroit         MI   \n",
       "1  1000000002     Kids Place  333 South Lake Drive  Columbus         OH   \n",
       "2  1000000003        Fun4All         1 Sunny Place    Muncie         IN   \n",
       "3  1000000004        Fun4All   829 Riverside Drive   Phoenix         AZ   \n",
       "4  1000000005  The Toy Store      4545 53rd Street   Chicago         IL   \n",
       "5  1000000006       Toy Land        123 Any Street  New York         NY   \n",
       "\n",
       "  cust_zip cust_country        cust_contact             cust_email  \n",
       "0    44444          USA          John Smith  sales@villagetoys.com  \n",
       "1    43333          USA      Michelle Green                   None  \n",
       "2    42222          USA           Jim Jones     jjones@fun4all.com  \n",
       "3    88888          USA  Denise L. Stephens  dstephens@fun4all.com  \n",
       "4    54545          USA          Kim Howard    kim@thetoystore.com  \n",
       "5    11111          USA                None                   None  "
      ]
     },
     "execution_count": 4,
     "metadata": {},
     "output_type": "execute_result"
    }
   ],
   "source": [
    "df"
   ]
  },
  {
   "cell_type": "code",
   "execution_count": null,
   "id": "81a44a79",
   "metadata": {},
   "outputs": [],
   "source": []
  }
 ],
 "metadata": {
  "kernelspec": {
   "display_name": "Python 3 (ipykernel)",
   "language": "python",
   "name": "python3"
  },
  "language_info": {
   "codemirror_mode": {
    "name": "ipython",
    "version": 3
   },
   "file_extension": ".py",
   "mimetype": "text/x-python",
   "name": "python",
   "nbconvert_exporter": "python",
   "pygments_lexer": "ipython3",
   "version": "3.9.7"
  }
 },
 "nbformat": 4,
 "nbformat_minor": 5
}
